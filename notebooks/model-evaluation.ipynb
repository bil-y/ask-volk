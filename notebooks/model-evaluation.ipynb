{
 "cells": [
  {
   "cell_type": "code",
   "execution_count": 1,
   "metadata": {},
   "outputs": [],
   "source": [
    "import pandas as pd\n",
    "import json\n",
    "import xgboost\n",
    "\n",
    "from sklearn import metrics"
   ]
  },
  {
   "cell_type": "code",
   "execution_count": 8,
   "metadata": {},
   "outputs": [],
   "source": [
    "predictions = json.load(open('../models/predictions.json'))"
   ]
  },
  {
   "cell_type": "code",
   "execution_count": 10,
   "metadata": {},
   "outputs": [
    {
     "data": {
      "text/plain": [
       "dict_keys(['model_0_predictions', 'model_0_ids', 'model_0_test_predictions', 'model_0_test_ids', 'model_0_test_true', 'model_1_predictions', 'model_1_ids', 'model_1_test_predictions', 'model_1_test_ids', 'model_1_test_true', 'model_2_predictions', 'model_2_ids', 'model_2_test_predictions', 'model_2_test_ids', 'model_2_test_true', 'model_3_predictions', 'model_3_ids', 'model_3_test_predictions', 'model_3_test_ids', 'model_3_test_true', 'model_4_predictions', 'model_4_ids', 'model_4_test_predictions', 'model_4_test_ids', 'model_4_test_true', 'model_5_predictions', 'model_5_ids', 'model_5_test_predictions', 'model_5_test_ids', 'model_5_test_true', 'model_6_predictions', 'model_6_ids', 'model_6_test_predictions', 'model_6_test_ids', 'model_6_test_true', 'model_7_predictions', 'model_7_ids', 'model_7_test_predictions', 'model_7_test_ids', 'model_7_test_true', 'model_8_predictions', 'model_8_ids', 'model_8_test_predictions', 'model_8_test_ids', 'model_8_test_true', 'model_9_predictions', 'model_9_ids', 'model_9_test_predictions', 'model_9_test_ids', 'model_9_test_true', 'model_10_predictions', 'model_10_ids', 'model_10_test_predictions', 'model_10_test_ids', 'model_10_test_true'])"
      ]
     },
     "execution_count": 10,
     "metadata": {},
     "output_type": "execute_result"
    }
   ],
   "source": [
    "predictions.keys()"
   ]
  },
  {
   "cell_type": "code",
   "execution_count": 37,
   "metadata": {},
   "outputs": [],
   "source": [
    "performance_df = {\n",
    "    \"model\": [],\n",
    "    \"rmse\": [],\n",
    "    \"mae\": [],\n",
    "    \"mape\": [],\n",
    "    \"max_error\": [],\n",
    "    \"explained_variance\": [],\n",
    "}"
   ]
  },
  {
   "cell_type": "code",
   "execution_count": 38,
   "metadata": {},
   "outputs": [],
   "source": [
    "for i in range(11):\n",
    "    preds = predictions[f\"model_{i}_test_predictions\"]\n",
    "    y = predictions[f\"model_{i}_test_true\"]\n",
    "    performance_df[\"model\"].append(f\"model_{i}\")\n",
    "    performance_df[\"rmse\"].append(metrics.root_mean_squared_error(y, preds))\n",
    "    performance_df[\"mae\"].append(metrics.mean_absolute_error(y, preds))\n",
    "    performance_df[\"mape\"].append(metrics.mean_absolute_percentage_error(y, preds))\n",
    "    performance_df[\"max_error\"].append(metrics.max_error(y, preds))\n",
    "    performance_df[\"explained_variance\"].append(metrics.explained_variance_score(y, preds))"
   ]
  },
  {
   "cell_type": "code",
   "execution_count": 39,
   "metadata": {},
   "outputs": [
    {
     "data": {
      "text/html": [
       "<div>\n",
       "<style scoped>\n",
       "    .dataframe tbody tr th:only-of-type {\n",
       "        vertical-align: middle;\n",
       "    }\n",
       "\n",
       "    .dataframe tbody tr th {\n",
       "        vertical-align: top;\n",
       "    }\n",
       "\n",
       "    .dataframe thead th {\n",
       "        text-align: right;\n",
       "    }\n",
       "</style>\n",
       "<table border=\"1\" class=\"dataframe\">\n",
       "  <thead>\n",
       "    <tr style=\"text-align: right;\">\n",
       "      <th></th>\n",
       "      <th>model</th>\n",
       "      <th>rmse</th>\n",
       "      <th>mae</th>\n",
       "      <th>mape</th>\n",
       "      <th>max_error</th>\n",
       "      <th>explained_variance</th>\n",
       "    </tr>\n",
       "  </thead>\n",
       "  <tbody>\n",
       "    <tr>\n",
       "      <th>0</th>\n",
       "      <td>model_0</td>\n",
       "      <td>0.184217</td>\n",
       "      <td>0.150163</td>\n",
       "      <td>6.734424e+10</td>\n",
       "      <td>0.579445</td>\n",
       "      <td>0.066272</td>\n",
       "    </tr>\n",
       "    <tr>\n",
       "      <th>1</th>\n",
       "      <td>model_1</td>\n",
       "      <td>0.162516</td>\n",
       "      <td>0.134854</td>\n",
       "      <td>6.981583e+10</td>\n",
       "      <td>0.516843</td>\n",
       "      <td>0.182187</td>\n",
       "    </tr>\n",
       "    <tr>\n",
       "      <th>2</th>\n",
       "      <td>model_2</td>\n",
       "      <td>0.162516</td>\n",
       "      <td>0.134854</td>\n",
       "      <td>6.981583e+10</td>\n",
       "      <td>0.516843</td>\n",
       "      <td>0.182187</td>\n",
       "    </tr>\n",
       "    <tr>\n",
       "      <th>3</th>\n",
       "      <td>model_3</td>\n",
       "      <td>0.143955</td>\n",
       "      <td>0.125045</td>\n",
       "      <td>2.111585e-01</td>\n",
       "      <td>0.390734</td>\n",
       "      <td>0.036839</td>\n",
       "    </tr>\n",
       "    <tr>\n",
       "      <th>4</th>\n",
       "      <td>model_4</td>\n",
       "      <td>0.179622</td>\n",
       "      <td>0.160697</td>\n",
       "      <td>2.689923e-01</td>\n",
       "      <td>0.445020</td>\n",
       "      <td>-0.026681</td>\n",
       "    </tr>\n",
       "    <tr>\n",
       "      <th>5</th>\n",
       "      <td>model_5</td>\n",
       "      <td>0.117266</td>\n",
       "      <td>0.098231</td>\n",
       "      <td>1.749669e-01</td>\n",
       "      <td>0.392091</td>\n",
       "      <td>0.000000</td>\n",
       "    </tr>\n",
       "    <tr>\n",
       "      <th>6</th>\n",
       "      <td>model_6</td>\n",
       "      <td>0.139773</td>\n",
       "      <td>0.120602</td>\n",
       "      <td>2.051309e-01</td>\n",
       "      <td>0.383713</td>\n",
       "      <td>-0.002696</td>\n",
       "    </tr>\n",
       "    <tr>\n",
       "      <th>7</th>\n",
       "      <td>model_7</td>\n",
       "      <td>0.185057</td>\n",
       "      <td>0.148389</td>\n",
       "      <td>7.781313e+10</td>\n",
       "      <td>0.632134</td>\n",
       "      <td>-0.048446</td>\n",
       "    </tr>\n",
       "    <tr>\n",
       "      <th>8</th>\n",
       "      <td>model_8</td>\n",
       "      <td>0.158647</td>\n",
       "      <td>0.131032</td>\n",
       "      <td>8.132794e+10</td>\n",
       "      <td>0.519841</td>\n",
       "      <td>0.095966</td>\n",
       "    </tr>\n",
       "    <tr>\n",
       "      <th>9</th>\n",
       "      <td>model_9</td>\n",
       "      <td>0.324578</td>\n",
       "      <td>0.277108</td>\n",
       "      <td>3.905261e-01</td>\n",
       "      <td>0.646858</td>\n",
       "      <td>-0.252250</td>\n",
       "    </tr>\n",
       "    <tr>\n",
       "      <th>10</th>\n",
       "      <td>model_10</td>\n",
       "      <td>0.144233</td>\n",
       "      <td>0.125191</td>\n",
       "      <td>2.121291e-01</td>\n",
       "      <td>0.386278</td>\n",
       "      <td>0.010459</td>\n",
       "    </tr>\n",
       "  </tbody>\n",
       "</table>\n",
       "</div>"
      ],
      "text/plain": [
       "       model      rmse       mae          mape  max_error  explained_variance\n",
       "0    model_0  0.184217  0.150163  6.734424e+10   0.579445            0.066272\n",
       "1    model_1  0.162516  0.134854  6.981583e+10   0.516843            0.182187\n",
       "2    model_2  0.162516  0.134854  6.981583e+10   0.516843            0.182187\n",
       "3    model_3  0.143955  0.125045  2.111585e-01   0.390734            0.036839\n",
       "4    model_4  0.179622  0.160697  2.689923e-01   0.445020           -0.026681\n",
       "5    model_5  0.117266  0.098231  1.749669e-01   0.392091            0.000000\n",
       "6    model_6  0.139773  0.120602  2.051309e-01   0.383713           -0.002696\n",
       "7    model_7  0.185057  0.148389  7.781313e+10   0.632134           -0.048446\n",
       "8    model_8  0.158647  0.131032  8.132794e+10   0.519841            0.095966\n",
       "9    model_9  0.324578  0.277108  3.905261e-01   0.646858           -0.252250\n",
       "10  model_10  0.144233  0.125191  2.121291e-01   0.386278            0.010459"
      ]
     },
     "execution_count": 39,
     "metadata": {},
     "output_type": "execute_result"
    }
   ],
   "source": [
    "performance_df = pd.DataFrame(performance_df)\n",
    "performance_df"
   ]
  },
  {
   "cell_type": "code",
   "execution_count": 41,
   "metadata": {},
   "outputs": [],
   "source": [
    "ids = set(predictions[\"model_0_ids\"])\n",
    "for i in range(1, 11):\n",
    "    ids &= set(predictions[f\"model_{i}_ids\"])"
   ]
  },
  {
   "cell_type": "code",
   "execution_count": 42,
   "metadata": {},
   "outputs": [
    {
     "data": {
      "text/plain": [
       "{590.0, 591.0, 592.0, 593.0, 594.0, 595.0, 626.0, 627.0, 628.0}"
      ]
     },
     "execution_count": 42,
     "metadata": {},
     "output_type": "execute_result"
    }
   ],
   "source": [
    "ids"
   ]
  },
  {
   "cell_type": "code",
   "execution_count": 43,
   "metadata": {},
   "outputs": [],
   "source": [
    "test_ids = set(predictions[\"model_0_test_ids\"])\n",
    "for i in range(1, 11):\n",
    "    test_ids &= set(predictions[f\"model_{i}_test_ids\"])"
   ]
  },
  {
   "cell_type": "code",
   "execution_count": 44,
   "metadata": {},
   "outputs": [
    {
     "data": {
      "text/plain": [
       "set()"
      ]
     },
     "execution_count": 44,
     "metadata": {},
     "output_type": "execute_result"
    }
   ],
   "source": [
    "test_ids"
   ]
  },
  {
   "cell_type": "code",
   "execution_count": null,
   "metadata": {},
   "outputs": [],
   "source": []
  }
 ],
 "metadata": {
  "kernelspec": {
   "display_name": "ask-volk-today-311",
   "language": "python",
   "name": "python3"
  },
  "language_info": {
   "codemirror_mode": {
    "name": "ipython",
    "version": 3
   },
   "file_extension": ".py",
   "mimetype": "text/x-python",
   "name": "python",
   "nbconvert_exporter": "python",
   "pygments_lexer": "ipython3",
   "version": "3.12.0"
  }
 },
 "nbformat": 4,
 "nbformat_minor": 2
}
