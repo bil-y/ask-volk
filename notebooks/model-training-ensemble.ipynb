{
 "cells": [
  {
   "cell_type": "code",
   "execution_count": 1,
   "metadata": {},
   "outputs": [],
   "source": [
    "import pandas as pd\n",
    "import xgboost as xgb"
   ]
  },
  {
   "cell_type": "code",
   "execution_count": null,
   "metadata": {},
   "outputs": [],
   "source": [
    "TEST_CUTOFF = 650  # Everything before this is training / validation data\n",
    "\n",
    "nv = pd.read_csv(\"../data/intermediate/national_votes.csv\")\n",
    "sv = pd.read_csv(\"../data/intermediate/swissvotes.csv\")\n",
    "topics = pd.read_csv(\"../data/processed/summary_topics.csv\")\n",
    "\n",
    "controls = [pd.read_parquet(\"../data/intermediate/controls/socioeconomic_2.parquet\")]"
   ]
  }
 ],
 "metadata": {
  "kernelspec": {
   "display_name": "ask-volk-today-311",
   "language": "python",
   "name": "python3"
  },
  "language_info": {
   "codemirror_mode": {
    "name": "ipython",
    "version": 3
   },
   "file_extension": ".py",
   "mimetype": "text/x-python",
   "name": "python",
   "nbconvert_exporter": "python",
   "pygments_lexer": "ipython3",
   "version": "3.1.undefined"
  }
 },
 "nbformat": 4,
 "nbformat_minor": 2
}
