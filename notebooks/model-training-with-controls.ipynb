{
 "cells": [
  {
   "cell_type": "code",
   "execution_count": 1,
   "metadata": {},
   "outputs": [],
   "source": [
    "import pandas as pd\n",
    "import xgboost as xgb"
   ]
  },
  {
   "cell_type": "code",
   "execution_count": 2,
   "metadata": {},
   "outputs": [],
   "source": [
    "TEST_CUTOFF = 650  # Everything before this is training data"
   ]
  },
  {
   "cell_type": "code",
   "execution_count": 3,
   "metadata": {},
   "outputs": [],
   "source": [
    "nv = pd.read_csv(\"../data/intermediate/national_votes.csv\")\n",
    "sv = pd.read_csv(\"../data/intermediate/swissvotes.csv\")\n",
    "topics = pd.read_csv(\"../data/processed/summary_topics.csv\")"
   ]
  },
  {
   "cell_type": "code",
   "execution_count": 4,
   "metadata": {},
   "outputs": [],
   "source": [
    "controls = []\n",
    "for i in range(3):\n",
    "    controls.append(pd.read_parquet(f\"../data/intermediate/controls/socioeconomic_{i}.parquet\"))\n",
    "controls = pd.concat(controls)"
   ]
  },
  {
   "cell_type": "code",
   "execution_count": 5,
   "metadata": {},
   "outputs": [],
   "source": [
    "# Swissvotes vote IDs (\"anr\" column) are multiplied by 10 for some reason\n",
    "sv[\"anr\"] /= 10\n",
    "\n",
    "# Select the relevant rows from swissvotes \n",
    "sv = sv[sv[\"anr\"] >= topics[\"id\"].min()]"
   ]
  },
  {
   "cell_type": "code",
   "execution_count": 6,
   "metadata": {},
   "outputs": [],
   "source": [
    "# Same for national votes from swissdd.\n",
    "nv[\"id\"] /= 10\n",
    "nv = nv[nv[\"id\"] >= topics[\"id\"].min()]"
   ]
  },
  {
   "cell_type": "code",
   "execution_count": 7,
   "metadata": {},
   "outputs": [],
   "source": [
    "# Join nv and topics\n",
    "nv.dropna(inplace=True)\n",
    "nv_and_topics = nv.merge(topics, left_on=\"id\", right_on=\"id\")"
   ]
  },
  {
   "cell_type": "code",
   "execution_count": 8,
   "metadata": {},
   "outputs": [],
   "source": [
    "nv_and_topics[\"votedate\"] = pd.DatetimeIndex(nv_and_topics[\"votedate\"])\n",
    "nv_and_topics[\"year\"] = nv_and_topics[\"votedate\"].dt.year\n",
    "nv_and_topics[\"month\"] = nv_and_topics[\"votedate\"].dt.month / 12"
   ]
  },
  {
   "cell_type": "code",
   "execution_count": 9,
   "metadata": {},
   "outputs": [],
   "source": [
    "# Prepare controls\n",
    "controls.dropna(inplace=True)\n",
    "controls[\"YEAR\"] = controls[\"YEAR\"].astype(int)\n",
    "controls = controls[controls[\"YEAR\"] >= nv_and_topics[\"year\"].min()]"
   ]
  },
  {
   "cell_type": "code",
   "execution_count": 10,
   "metadata": {},
   "outputs": [],
   "source": [
    "index = [\"YEAR\", \"MUN_ID\"] if \"MUN_ID\" in controls.columns else [\"YEAR\"]\n",
    "controls = controls.pivot(index=index, columns=\"VALUE\", values=\"DATA\")"
   ]
  },
  {
   "cell_type": "code",
   "execution_count": 11,
   "metadata": {},
   "outputs": [],
   "source": [
    "left_on = [\"year\", \"mun_id\"] if \"MUN_ID\" in index else [\"year\"]\n",
    "merged = pd.merge(nv_and_topics, controls, left_on=left_on, right_index=True)"
   ]
  },
  {
   "cell_type": "code",
   "execution_count": 12,
   "metadata": {},
   "outputs": [],
   "source": [
    "# Drop the columns we don't need...\n",
    "merged.drop(\n",
    "    columns=[\n",
    "        \"Unnamed: 0\",\n",
    "        \"name\",\n",
    "        \"canton_name\",\n",
    "        \"mun_name\",\n",
    "        \"geoLevelParentnummer\",\n",
    "        \"gebietAusgezaehlt\",\n",
    "        \"jaStimmenAbsolut\",\n",
    "        \"neinStimmenAbsolut\",\n",
    "        \"stimmbeteiligungInProzent\",\n",
    "        \"eingelegteStimmzettel\",\n",
    "        \"anzahlStimmberechtigte\",\n",
    "        \"gueltigeStimmen\",\n",
    "        \"votedate\",\n",
    "    ]\n",
    ", inplace=True)\n",
    "# ... and prepare for XGBoost\n",
    "#merged.dropna(inplace=True)\n",
    "merged[\"year\"] -= merged[\"year\"].min()\n",
    "merged[\"jaStimmenInProzent\"] /= 100\n",
    "merged[\"mun_id\"] = merged[\"mun_id\"].astype(\"category\")\n",
    "merged[\"canton_id\"] = merged[\"canton_id\"].astype(\"category\")"
   ]
  },
  {
   "cell_type": "code",
   "execution_count": 13,
   "metadata": {},
   "outputs": [
    {
     "name": "stderr",
     "output_type": "stream",
     "text": [
      "/tmp/ipykernel_14761/2044683059.py:6: SettingWithCopyWarning: \n",
      "A value is trying to be set on a copy of a slice from a DataFrame\n",
      "\n",
      "See the caveats in the documentation: https://pandas.pydata.org/pandas-docs/stable/user_guide/indexing.html#returning-a-view-versus-a-copy\n",
      "  train.drop(columns=[\"id\"], inplace=True)\n",
      "/tmp/ipykernel_14761/2044683059.py:7: SettingWithCopyWarning: \n",
      "A value is trying to be set on a copy of a slice from a DataFrame\n",
      "\n",
      "See the caveats in the documentation: https://pandas.pydata.org/pandas-docs/stable/user_guide/indexing.html#returning-a-view-versus-a-copy\n",
      "  test.drop(columns=[\"id\"], inplace=True)\n"
     ]
    }
   ],
   "source": [
    "# Split into training and test data\n",
    "\n",
    "train = merged[merged[\"id\"] < TEST_CUTOFF]\n",
    "test = merged[merged[\"id\"] >= TEST_CUTOFF]\n",
    "\n",
    "train.drop(columns=[\"id\"], inplace=True)\n",
    "test.drop(columns=[\"id\"], inplace=True)"
   ]
  },
  {
   "cell_type": "code",
   "execution_count": 14,
   "metadata": {},
   "outputs": [
    {
     "ename": "",
     "evalue": "",
     "output_type": "error",
     "traceback": [
      "\u001b[1;31mThe Kernel crashed while executing code in the current cell or a previous cell. \n",
      "\u001b[1;31mPlease review the code in the cell(s) to identify a possible cause of the failure. \n",
      "\u001b[1;31mClick <a href='https://aka.ms/vscodeJupyterKernelCrash'>here</a> for more info. \n",
      "\u001b[1;31mView Jupyter <a href='command:jupyter.viewOutput'>log</a> for further details."
     ]
    }
   ],
   "source": [
    "# Train the model\n",
    "dtrain = xgb.DMatrix(\n",
    "    train.drop(columns=[\"jaStimmenInProzent\"]),\n",
    "    label=train[\"jaStimmenInProzent\"],\n",
    "    enable_categorical=True,\n",
    ")\n",
    "dtest = xgb.DMatrix(\n",
    "    test.drop(columns=[\"jaStimmenInProzent\"]),\n",
    "    label=test[\"jaStimmenInProzent\"],\n",
    "    enable_categorical=True,\n",
    ")\n",
    "\n",
    "# Gain back some desperately needed memory\n",
    "del merged, nv_and_topics, controls"
   ]
  },
  {
   "cell_type": "code",
   "execution_count": 15,
   "metadata": {},
   "outputs": [],
   "source": [
    "param = {\n",
    "    # \"objective\": \"binary:logistic\",\n",
    "    \"max_depth\": 15,\n",
    "    \"subsample\": 0.8,\n",
    "    \"eta\": 0.01\n",
    "}\n",
    "bst = xgb.train(param, dtrain, 200)"
   ]
  },
  {
   "cell_type": "code",
   "execution_count": null,
   "metadata": {},
   "outputs": [
    {
     "data": {
      "text/plain": [
       "'[0]\\teval-rmse:0.14941583165096164'"
      ]
     },
     "execution_count": 16,
     "metadata": {},
     "output_type": "execute_result"
    }
   ],
   "source": [
    "bst.eval(dtest)"
   ]
  }
 ],
 "metadata": {
  "kernelspec": {
   "display_name": "ask-volk-today-311",
   "language": "python",
   "name": "python3"
  },
  "language_info": {
   "codemirror_mode": {
    "name": "ipython",
    "version": 3
   },
   "file_extension": ".py",
   "mimetype": "text/x-python",
   "name": "python",
   "nbconvert_exporter": "python",
   "pygments_lexer": "ipython3",
   "version": "3.12.0"
  }
 },
 "nbformat": 4,
 "nbformat_minor": 2
}
