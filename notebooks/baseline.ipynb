{
 "cells": [
  {
   "cell_type": "code",
   "execution_count": 176,
   "metadata": {},
   "outputs": [],
   "source": [
    "import random\n",
    "\n",
    "import pandas as pd\n",
    "import sklearn\n",
    "import xgboost as xgb\n",
    "from sklearn.model_selection import train_test_split"
   ]
  },
  {
   "cell_type": "code",
   "execution_count": 177,
   "metadata": {},
   "outputs": [],
   "source": [
    "n = 20\n",
    "cutoff = 650\n",
    "\n",
    "random.seed(42)"
   ]
  },
  {
   "cell_type": "code",
   "execution_count": 178,
   "metadata": {},
   "outputs": [],
   "source": [
    "nv = pd.read_csv(\"../data/intermediate/national_votes.csv\")\n",
    "topics = pd.read_csv(\"../data/processed/summary_topics.csv\")\n",
    "\n",
    "nv[\"id\"] /= 10\n",
    "nv = nv[nv[\"id\"] >= topics[\"id\"].min()]\n",
    "nv = nv[nv[\"id\"] <= topics[\"id\"].max()]\n",
    "nv[\"jaStimmenInProzent\"] /= 100"
   ]
  },
  {
   "cell_type": "code",
   "execution_count": 179,
   "metadata": {},
   "outputs": [],
   "source": [
    "muns = nv[\"mun_id\"].unique()\n",
    "sample = random.sample(muns.tolist(), n)"
   ]
  },
  {
   "cell_type": "code",
   "execution_count": 180,
   "metadata": {},
   "outputs": [],
   "source": [
    "selected_entries = nv[nv[\"mun_id\"].isin(sample)]\n",
    "selected_entries = selected_entries[[\"id\", \"mun_id\", \"jaStimmenInProzent\"]]"
   ]
  },
  {
   "cell_type": "code",
   "execution_count": 181,
   "metadata": {},
   "outputs": [],
   "source": [
    "Xy = selected_entries.pivot(index=\"id\", columns=\"mun_id\", values=\"jaStimmenInProzent\")\n",
    "Xy_with_topics = Xy.merge(topics, left_on=\"id\", right_on=\"id\")\n",
    "\n",
    "X = Xy_with_topics[Xy.columns[:-1]]\n",
    "y = Xy_with_topics[Xy.columns[-1]]\n",
    "\n",
    "X_train, X_test, y_train, y_test = train_test_split(X, y, test_size=0.2, random_state=42)\n",
    "dtrain = xgb.DMatrix(X_train, label=y_train)\n",
    "dtest = xgb.DMatrix(X_test, label=y_test)"
   ]
  },
  {
   "cell_type": "code",
   "execution_count": 182,
   "metadata": {},
   "outputs": [],
   "source": [
    "bst = xgb.train({\"eta\": 0.01}, dtrain, 1000)"
   ]
  },
  {
   "cell_type": "code",
   "execution_count": 183,
   "metadata": {},
   "outputs": [
    {
     "data": {
      "text/plain": [
       "'[0]\\tbaseline (no topics)-rmse:0.11417528175882152'"
      ]
     },
     "execution_count": 183,
     "metadata": {},
     "output_type": "execute_result"
    }
   ],
   "source": [
    "bst.eval(dtest, name=\"baseline (no topics)\")"
   ]
  },
  {
   "cell_type": "code",
   "execution_count": 184,
   "metadata": {},
   "outputs": [],
   "source": [
    "X_with_topics = Xy_with_topics.drop(columns=[Xy.columns[-1]])\n",
    "\n",
    "X_train, X_test, y_train, y_test = train_test_split(X_with_topics, y, test_size=0.2, random_state=42)\n",
    "dtrain = xgb.DMatrix(X_train, label=y_train)\n",
    "dtest = xgb.DMatrix(X_test, label=y_test)"
   ]
  },
  {
   "cell_type": "code",
   "execution_count": 185,
   "metadata": {},
   "outputs": [],
   "source": [
    "bst = xgb.train({\"eta\": 0.01}, dtrain, 1000)"
   ]
  },
  {
   "cell_type": "code",
   "execution_count": 186,
   "metadata": {},
   "outputs": [
    {
     "data": {
      "text/plain": [
       "'[0]\\twith topics-rmse:0.12144121752570519'"
      ]
     },
     "execution_count": 186,
     "metadata": {},
     "output_type": "execute_result"
    }
   ],
   "source": [
    "bst.eval(dtest, name=\"with topics\")"
   ]
  },
  {
   "cell_type": "code",
   "execution_count": null,
   "metadata": {},
   "outputs": [],
   "source": []
  }
 ],
 "metadata": {
  "kernelspec": {
   "display_name": "ask-volk-today-311",
   "language": "python",
   "name": "python3"
  },
  "language_info": {
   "codemirror_mode": {
    "name": "ipython",
    "version": 3
   },
   "file_extension": ".py",
   "mimetype": "text/x-python",
   "name": "python",
   "nbconvert_exporter": "python",
   "pygments_lexer": "ipython3",
   "version": "3.12.0"
  }
 },
 "nbformat": 4,
 "nbformat_minor": 2
}
